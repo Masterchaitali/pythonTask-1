{
 "cells": [
  {
   "cell_type": "code",
   "execution_count": 2,
   "metadata": {},
   "outputs": [],
   "source": [
    "import pandas as pd\n",
    "import numpy as np\n",
    "import seaborn as sns\n",
    "from scipy.stats import skew, kurtosis\n",
    "import statsmodels.graphics.tsaplots as tsa_plots\n",
    "# from sklearn.metrics import mean_squared_error\n",
    "# from math import sqrt\n",
    "from matplotlib import pyplot\n",
    "import matplotlib.pyplot as plt\n",
    "from statsmodels.tsa.seasonal import seasonal_decompose"
   ]
  },
  {
   "cell_type": "code",
   "execution_count": 3,
   "metadata": {},
   "outputs": [],
   "source": [
    "data = pd.read_csv(r'C:\\Users\\Chaitali\\Desktop\\MapUp-Data-Assessment-F-main\\datasets\\dataset-1.csv')"
   ]
  },
  {
   "cell_type": "code",
   "execution_count": 4,
   "metadata": {},
   "outputs": [
    {
     "data": {
      "text/html": [
       "<div>\n",
       "<style scoped>\n",
       "    .dataframe tbody tr th:only-of-type {\n",
       "        vertical-align: middle;\n",
       "    }\n",
       "\n",
       "    .dataframe tbody tr th {\n",
       "        vertical-align: top;\n",
       "    }\n",
       "\n",
       "    .dataframe thead th {\n",
       "        text-align: right;\n",
       "    }\n",
       "</style>\n",
       "<table border=\"1\" class=\"dataframe\">\n",
       "  <thead>\n",
       "    <tr style=\"text-align: right;\">\n",
       "      <th></th>\n",
       "      <th>id_1</th>\n",
       "      <th>id_2</th>\n",
       "      <th>route</th>\n",
       "      <th>moto</th>\n",
       "      <th>car</th>\n",
       "      <th>rv</th>\n",
       "      <th>bus</th>\n",
       "      <th>truck</th>\n",
       "    </tr>\n",
       "  </thead>\n",
       "  <tbody>\n",
       "    <tr>\n",
       "      <th>0</th>\n",
       "      <td>829</td>\n",
       "      <td>827</td>\n",
       "      <td>1</td>\n",
       "      <td>2.05</td>\n",
       "      <td>4.14</td>\n",
       "      <td>4.14</td>\n",
       "      <td>10.1</td>\n",
       "      <td>15.2</td>\n",
       "    </tr>\n",
       "    <tr>\n",
       "      <th>1</th>\n",
       "      <td>829</td>\n",
       "      <td>821</td>\n",
       "      <td>4</td>\n",
       "      <td>6.63</td>\n",
       "      <td>13.26</td>\n",
       "      <td>13.26</td>\n",
       "      <td>32.4</td>\n",
       "      <td>48.5</td>\n",
       "    </tr>\n",
       "    <tr>\n",
       "      <th>2</th>\n",
       "      <td>829</td>\n",
       "      <td>804</td>\n",
       "      <td>7</td>\n",
       "      <td>14.41</td>\n",
       "      <td>28.92</td>\n",
       "      <td>28.92</td>\n",
       "      <td>64.7</td>\n",
       "      <td>97.0</td>\n",
       "    </tr>\n",
       "    <tr>\n",
       "      <th>3</th>\n",
       "      <td>829</td>\n",
       "      <td>822</td>\n",
       "      <td>6</td>\n",
       "      <td>5.90</td>\n",
       "      <td>11.81</td>\n",
       "      <td>11.81</td>\n",
       "      <td>28.8</td>\n",
       "      <td>43.2</td>\n",
       "    </tr>\n",
       "    <tr>\n",
       "      <th>4</th>\n",
       "      <td>829</td>\n",
       "      <td>826</td>\n",
       "      <td>9</td>\n",
       "      <td>2.87</td>\n",
       "      <td>5.81</td>\n",
       "      <td>5.81</td>\n",
       "      <td>14.2</td>\n",
       "      <td>21.2</td>\n",
       "    </tr>\n",
       "    <tr>\n",
       "      <th>...</th>\n",
       "      <td>...</td>\n",
       "      <td>...</td>\n",
       "      <td>...</td>\n",
       "      <td>...</td>\n",
       "      <td>...</td>\n",
       "      <td>...</td>\n",
       "      <td>...</td>\n",
       "      <td>...</td>\n",
       "    </tr>\n",
       "    <tr>\n",
       "      <th>336</th>\n",
       "      <td>803</td>\n",
       "      <td>802</td>\n",
       "      <td>3</td>\n",
       "      <td>1.70</td>\n",
       "      <td>3.40</td>\n",
       "      <td>3.40</td>\n",
       "      <td>6.9</td>\n",
       "      <td>10.3</td>\n",
       "    </tr>\n",
       "    <tr>\n",
       "      <th>337</th>\n",
       "      <td>803</td>\n",
       "      <td>805</td>\n",
       "      <td>4</td>\n",
       "      <td>3.00</td>\n",
       "      <td>6.00</td>\n",
       "      <td>6.00</td>\n",
       "      <td>12.0</td>\n",
       "      <td>17.9</td>\n",
       "    </tr>\n",
       "    <tr>\n",
       "      <th>338</th>\n",
       "      <td>803</td>\n",
       "      <td>825</td>\n",
       "      <td>3</td>\n",
       "      <td>11.59</td>\n",
       "      <td>23.28</td>\n",
       "      <td>23.28</td>\n",
       "      <td>50.1</td>\n",
       "      <td>75.2</td>\n",
       "    </tr>\n",
       "    <tr>\n",
       "      <th>339</th>\n",
       "      <td>803</td>\n",
       "      <td>806</td>\n",
       "      <td>9</td>\n",
       "      <td>3.80</td>\n",
       "      <td>7.70</td>\n",
       "      <td>7.70</td>\n",
       "      <td>15.3</td>\n",
       "      <td>23.0</td>\n",
       "    </tr>\n",
       "    <tr>\n",
       "      <th>340</th>\n",
       "      <td>803</td>\n",
       "      <td>830</td>\n",
       "      <td>1</td>\n",
       "      <td>16.18</td>\n",
       "      <td>32.47</td>\n",
       "      <td>32.47</td>\n",
       "      <td>72.6</td>\n",
       "      <td>108.8</td>\n",
       "    </tr>\n",
       "  </tbody>\n",
       "</table>\n",
       "<p>341 rows × 8 columns</p>\n",
       "</div>"
      ],
      "text/plain": [
       "     id_1  id_2  route   moto    car     rv   bus  truck\n",
       "0     829   827      1   2.05   4.14   4.14  10.1   15.2\n",
       "1     829   821      4   6.63  13.26  13.26  32.4   48.5\n",
       "2     829   804      7  14.41  28.92  28.92  64.7   97.0\n",
       "3     829   822      6   5.90  11.81  11.81  28.8   43.2\n",
       "4     829   826      9   2.87   5.81   5.81  14.2   21.2\n",
       "..    ...   ...    ...    ...    ...    ...   ...    ...\n",
       "336   803   802      3   1.70   3.40   3.40   6.9   10.3\n",
       "337   803   805      4   3.00   6.00   6.00  12.0   17.9\n",
       "338   803   825      3  11.59  23.28  23.28  50.1   75.2\n",
       "339   803   806      9   3.80   7.70   7.70  15.3   23.0\n",
       "340   803   830      1  16.18  32.47  32.47  72.6  108.8\n",
       "\n",
       "[341 rows x 8 columns]"
      ]
     },
     "execution_count": 4,
     "metadata": {},
     "output_type": "execute_result"
    }
   ],
   "source": [
    "data"
   ]
  },
  {
   "cell_type": "code",
   "execution_count": 8,
   "metadata": {},
   "outputs": [
    {
     "name": "stdout",
     "output_type": "stream",
     "text": [
      "     id_1  id_2  route   moto    car     rv   bus  truck\n",
      "0     829   827      1   2.05   4.14   4.14  10.1   15.2\n",
      "1     829   821      4   6.63  13.26  13.26  32.4   48.5\n",
      "2     829   804      7  14.41  28.92  28.92  64.7   97.0\n",
      "3     829   822      6   5.90  11.81  11.81  28.8   43.2\n",
      "4     829   826      9   2.87   5.81   5.81  14.2   21.2\n",
      "..    ...   ...    ...    ...    ...    ...   ...    ...\n",
      "336   803   802      3   1.70   3.40   3.40   6.9   10.3\n",
      "337   803   805      4   3.00   6.00   6.00  12.0   17.9\n",
      "338   803   825      3  11.59  23.28  23.28  50.1   75.2\n",
      "339   803   806      9   3.80   7.70   7.70  15.3   23.0\n",
      "340   803   830      1  16.18  32.47  32.47  72.6  108.8\n",
      "\n",
      "[341 rows x 8 columns]\n"
     ]
    }
   ],
   "source": [
    "df=pd.DataFrame(data)\n",
    "print(df)"
   ]
  },
  {
   "cell_type": "code",
   "execution_count": 5,
   "metadata": {},
   "outputs": [
    {
     "name": "stdout",
     "output_type": "stream",
     "text": [
      "{'id_2': [827, 821, 804, 822, 826, 802]}\n",
      "     id_1  id_2  route   moto    car     rv   bus  truck\n",
      "0     829   827      1   2.05   4.14   4.14  10.1   15.2\n",
      "1     829   821      4   6.63  13.26  13.26  32.4   48.5\n",
      "2     829   804      7  14.41  28.92  28.92  64.7   97.0\n",
      "3     829   822      6   5.90  11.81  11.81  28.8   43.2\n",
      "4     829   826      9   2.87   5.81   5.81  14.2   21.2\n",
      "..    ...   ...    ...    ...    ...    ...   ...    ...\n",
      "336   803   802      3   1.70   3.40   3.40   6.9   10.3\n",
      "337   803   805      4   3.00   6.00   6.00  12.0   17.9\n",
      "338   803   825      3  11.59  23.28  23.28  50.1   75.2\n",
      "339   803   806      9   3.80   7.70   7.70  15.3   23.0\n",
      "340   803   830      1  16.18  32.47  32.47  72.6  108.8\n",
      "\n",
      "[341 rows x 8 columns]\n"
     ]
    }
   ],
   "source": [
    "data1={\"id_2\":[827,821,804,822,826,802]}\n",
    "#df=pd.DataFrame(data)\n",
    "#newdf = df.drop(\"id_2\")\n",
    "print(data1)\n",
    "print(data)\n"
   ]
  },
  {
   "cell_type": "code",
   "execution_count": 9,
   "metadata": {},
   "outputs": [
    {
     "name": "stdout",
     "output_type": "stream",
     "text": [
      "id_1     829.00\n",
      "id_2     827.00\n",
      "route      1.00\n",
      "moto       2.05\n",
      "car        4.14\n",
      "rv         4.14\n",
      "bus       10.10\n",
      "truck     15.20\n",
      "Name: 0, dtype: float64\n"
     ]
    }
   ],
   "source": [
    "print(df.loc[0])"
   ]
  },
  {
   "cell_type": "code",
   "execution_count": 10,
   "metadata": {},
   "outputs": [
    {
     "name": "stdout",
     "output_type": "stream",
     "text": [
      "           id_1      id_2     route      moto       car        rv       bus  \\\n",
      "id_1   1.000000 -0.058963  0.049904 -0.079662 -0.080127 -0.082100 -0.032211   \n",
      "id_2  -0.058963  1.000000 -0.003877 -0.081567 -0.078912 -0.078264 -0.033788   \n",
      "route  0.049904 -0.003877  1.000000  0.004654  0.007766  0.002111  0.008427   \n",
      "moto  -0.079662 -0.081567  0.004654  1.000000  0.998900  0.998610  0.995177   \n",
      "car   -0.080127 -0.078912  0.007766  0.998900  1.000000  0.998093  0.993629   \n",
      "rv    -0.082100 -0.078264  0.002111  0.998610  0.998093  1.000000  0.993317   \n",
      "bus   -0.032211 -0.033788  0.008427  0.995177  0.993629  0.993317  1.000000   \n",
      "truck -0.036984 -0.039238  0.006703  0.990787  0.987542  0.987228  0.996656   \n",
      "\n",
      "          truck  \n",
      "id_1  -0.036984  \n",
      "id_2  -0.039238  \n",
      "route  0.006703  \n",
      "moto   0.990787  \n",
      "car    0.987542  \n",
      "rv     0.987228  \n",
      "bus    0.996656  \n",
      "truck  1.000000  \n"
     ]
    }
   ],
   "source": [
    "df=pd.DataFrame(data)\n",
    "print(df.corr())"
   ]
  },
  {
   "cell_type": "code",
   "execution_count": 11,
   "metadata": {},
   "outputs": [
    {
     "name": "stdout",
     "output_type": "stream",
     "text": [
      "     id_1  id_2  route   moto    car     rv   bus  truck\n",
      "0     829   827      1   2.05   4.14   4.14  10.1   15.2\n",
      "1     829   827      4   6.63  13.26  13.26  32.4   48.5\n",
      "2     829   827      7  14.41  28.92  28.92  64.7   97.0\n",
      "3     829   827      7  14.41  28.92  28.92  64.7   97.0\n",
      "4     829   827      9  14.41  28.92  28.92  64.7   97.0\n",
      "..    ...   ...    ...    ...    ...    ...   ...    ...\n",
      "336   831   831     10  19.67  39.24  39.24  86.5  129.8\n",
      "337   831   831     10  19.67  39.24  39.24  86.5  129.8\n",
      "338   831   831     10  19.67  39.24  39.24  86.5  129.8\n",
      "339   831   831     10  19.67  39.24  39.24  86.5  129.8\n",
      "340   831   831     10  19.67  39.24  39.24  86.5  129.8\n",
      "\n",
      "[341 rows x 8 columns]\n"
     ]
    }
   ],
   "source": [
    "df=pd.DataFrame(data)\n",
    "print(df.cummax())"
   ]
  },
  {
   "cell_type": "code",
   "execution_count": 12,
   "metadata": {},
   "outputs": [
    {
     "name": "stdout",
     "output_type": "stream",
     "text": [
      "             id_1        id_2       route        moto         car          rv  \\\n",
      "count  341.000000  341.000000  341.000000  341.000000  341.000000  341.000000   \n",
      "mean   815.906158  815.920821    5.334311    7.214106   14.411730   14.412229   \n",
      "std     10.801824   10.817587    2.873760    4.684622    9.382008    9.322661   \n",
      "min    801.000000  801.000000    1.000000    0.740000    1.390000    1.390000   \n",
      "25%    805.000000  805.000000    3.000000    3.280000    6.550000    6.550000   \n",
      "50%    821.000000  821.000000    5.000000    6.450000   12.380000   12.870000   \n",
      "75%    826.000000  826.000000    8.000000   10.500000   20.920000   20.920000   \n",
      "max    831.000000  831.000000   10.000000   19.670000   39.240000   39.240000   \n",
      "\n",
      "              bus       truck  \n",
      "count  341.000000  341.000000  \n",
      "mean    31.932845   47.841789  \n",
      "std     20.532486   30.926161  \n",
      "min      3.300000    4.350000  \n",
      "25%     15.100000   22.600000  \n",
      "50%     28.400000   42.400000  \n",
      "75%     45.800000   68.700000  \n",
      "max     86.500000  129.800000  \n"
     ]
    }
   ],
   "source": [
    "df=pd.DataFrame(data)\n",
    "print(df.describe())"
   ]
  },
  {
   "cell_type": "code",
   "execution_count": 15,
   "metadata": {},
   "outputs": [
    {
     "name": "stdout",
     "output_type": "stream",
     "text": [
      "id_1     341\n",
      "id_2     341\n",
      "route    341\n",
      "moto     341\n",
      "car      341\n",
      "rv       341\n",
      "bus      341\n",
      "truck    341\n",
      "dtype: int64\n"
     ]
    }
   ],
   "source": [
    "df=pd.DataFrame(data)\n",
    "print(df.count())\n",
    "\n",
    "\n",
    "\n",
    "\n"
   ]
  },
  {
   "cell_type": "code",
   "execution_count": 18,
   "metadata": {},
   "outputs": [
    {
     "name": "stdout",
     "output_type": "stream",
     "text": [
      "RangeIndex(start=0, stop=341, step=1)\n"
     ]
    }
   ],
   "source": [
    "df=pd.DataFrame(data)\n",
    "print(df.index)\n"
   ]
  },
  {
   "cell_type": "code",
   "execution_count": 19,
   "metadata": {},
   "outputs": [
    {
     "name": "stdout",
     "output_type": "stream",
     "text": [
      "[[829.   827.     1.   ...   4.14  10.1   15.2 ]\n",
      " [829.   821.     4.   ...  13.26  32.4   48.5 ]\n",
      " [829.   804.     7.   ...  28.92  64.7   97.  ]\n",
      " ...\n",
      " [803.   825.     3.   ...  23.28  50.1   75.2 ]\n",
      " [803.   806.     9.   ...   7.7   15.3   23.  ]\n",
      " [803.   830.     1.   ...  32.47  72.6  108.8 ]]\n"
     ]
    }
   ],
   "source": [
    "df=pd.DataFrame(data)\n",
    "print(df.values)"
   ]
  }
 ],
 "metadata": {
  "kernelspec": {
   "display_name": "base",
   "language": "python",
   "name": "python3"
  },
  "language_info": {
   "codemirror_mode": {
    "name": "ipython",
    "version": 3
   },
   "file_extension": ".py",
   "mimetype": "text/x-python",
   "name": "python",
   "nbconvert_exporter": "python",
   "pygments_lexer": "ipython3",
   "version": "3.7.6"
  }
 },
 "nbformat": 4,
 "nbformat_minor": 2
}
